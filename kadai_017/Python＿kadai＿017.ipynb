{
  "nbformat": 4,
  "nbformat_minor": 0,
  "metadata": {
    "colab": {
      "provenance": []
    },
    "kernelspec": {
      "name": "python3",
      "display_name": "Python 3"
    },
    "language_info": {
      "name": "python"
    }
  },
  "cells": [
    {
      "cell_type": "code",
      "execution_count": 14,
      "metadata": {
        "colab": {
          "base_uri": "https://localhost:8080/"
        },
        "id": "4pc6MSUhZ0Hw",
        "outputId": "f78823cc-19c0-42e5-f103-45c7af493b7f"
      },
      "outputs": [
        {
          "output_type": "stream",
          "name": "stdout",
          "text": [
            "山田さんは大人です\n",
            "鈴木さんは大人ではありません\n",
            "山本さんは大人です\n"
          ]
        }
      ],
      "source": [
        "#名前(name)と年齢(age)の属性を持つHumanクラスを作成してください。\n",
        "#nameとageを標準出力(print)するcheck_adultメソッドを追加\n",
        "#Humanクラスのインスタンスは、変数に代入してプログラム内で使用してください。\n",
        "\n",
        "class Human:\n",
        "  def __init__(self,name,age):\n",
        "    self.name=name\n",
        "    self.age=age\n",
        "\n",
        "\n",
        "  def check_adult(self):\n",
        "    if self.age >= 20:\n",
        "      print(self.name+'さんは大人です')\n",
        "    else :\n",
        "      print(self.name+'さんは大人ではありません')\n",
        "\n",
        "\n",
        "#Humanクラスのインスタンスを複数生成\n",
        "human_1=Human(\"山田\",40)\n",
        "human_2=Human(\"鈴木\",17)\n",
        "human_3=Human(\"山本\",20)\n",
        "\n",
        "#インスタンスをリストに追加\n",
        "human_list=[human_1, human_2, human_3]\n",
        "\n",
        "#リストの要素分だけcheck_adultを呼び出す\n",
        "for human in human_list:\n",
        "    human.check_adult()\n"
      ]
    }
  ]
}